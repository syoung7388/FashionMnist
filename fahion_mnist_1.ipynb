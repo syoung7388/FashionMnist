{
 "cells": [
  {
   "cell_type": "code",
   "execution_count": 1,
   "id": "6a22c5aa",
   "metadata": {},
   "outputs": [],
   "source": [
    "# DataSet\n",
    "import torch\n",
    "from torchvision import datasets, transforms\n",
    "import numpy as np\n",
    "import matplotlib.pyplot as plt\n",
    "import torch.nn as nn\n",
    "import torch.optim as optim\n",
    "import torch.nn.functional as F\n",
    "\n",
    "#import helper\n",
    "\n",
    "transform = transforms.Compose([\n",
    "    transforms.ToTensor(), \n",
    "    transforms.Normalize((0.5,), (0.5,)) \n",
    "])\n",
    "\n",
    "trainset = datasets.FashionMNIST('~/.pytorch/F_MNIST_data/', download = True, train = True, transform = transform)\n",
    "trainloader = torch.utils.data.DataLoader(trainset, batch_size = 64, shuffle = True)\n",
    "\n",
    "testset = datasets.FashionMNIST('~/.pytorch/F_MNIST_data/', download = True, train = False, transform = transform)\n",
    "testloader = torch.utils.data.DataLoader(trainset, batch_size = 64, shuffle = True)\n",
    "\n",
    "\n"
   ]
  },
  {
   "cell_type": "code",
   "execution_count": 2,
   "id": "19120a92",
   "metadata": {},
   "outputs": [
    {
     "data": {
      "image/png": "[encoded data removed]",
      "text/plain": [
       "<Figure size 432x288 with 1 Axes>"
      ]
     },
     "metadata": {
      "needs_background": "light"
     },
     "output_type": "display_data"
    }
   ],
   "source": [
    "#test image\n",
    "\n",
    "def imgshow(image, ax = None, title = None, normalize = True ):\n",
    "    \n",
    "    if ax is None:\n",
    "        fig, ax = plt.subplots()\n",
    "    image = image.numpy().transpose((1, 2, 0))\n",
    "    \n",
    "    if normalize:\n",
    "        mean = np.array([0.485, 0.456, 0.406])\n",
    "        std = np.array([0.229, 0.224, 0.225])\n",
    "        image = std*image+mean\n",
    "        image = np.clip(image, 0, 1)\n",
    "    ax.imshow(image)\n",
    "    ax.spines['top'].set_visible(False)\n",
    "    ax.spines['right'].set_visible(False)\n",
    "    ax.spines['left'].set_visible(False)\n",
    "    ax.spines['bottom'].set_visible(False)\n",
    "    ax.tick_params(axis = 'both', length = 0)\n",
    "    ax.set_xticklabels('')\n",
    "    ax.set_yticklabels('')\n",
    "    return ax\n",
    "image, label = next(iter(trainloader))\n",
    "\n",
    "imgshow(image[0, :]);"
   ]
  },
  {
   "cell_type": "code",
   "execution_count": 5,
   "id": "86f5b8d3",
   "metadata": {},
   "outputs": [],
   "source": [
    "# make the network \n",
    "\"\"\"\n",
    "input layer: 28*28 = 764\n",
    "hidden layer: 2개, 258, 128\n",
    "output layer: 10개 (구별할 옷이 열 종류)\n",
    "Adam Optimizer과 NLLLoss 활용\n",
    "\"\"\"\n",
    "\n",
    "class Classifier(nn.Module):\n",
    "    def __init__(self):\n",
    "        super().__init__()\n",
    "        self.fc1 = nn.Linear(784, 256)\n",
    "        self.fc2 = nn.Linear(256, 128)\n",
    "        self.fc3 = nn.Linear(128, 64)\n",
    "        self.fc4 = nn.Linear(64, 10)\n",
    "        \n",
    "    def forward(self, x):\n",
    "        x = x.view(x.shape[0], -1)\n",
    "        x = F.relu(self.fc1(x))\n",
    "        x = F.relu(self.fc2(x))\n",
    "        x = F.relu(self.fc3(x))\n",
    "        x = F.log_softmax(self.fc4(x), dim = 1)\n",
    "        return x\n",
    "\n",
    "    \n",
    "        \n",
    "        "
   ]
  },
  {
   "cell_type": "code",
   "execution_count": 6,
   "id": "0e614be7",
   "metadata": {},
   "outputs": [
    {
     "name": "stdout",
     "output_type": "stream",
     "text": [
      "Training loss: 0.5113844161253494\n",
      "Training loss: 0.3896492956194288\n",
      "Training loss: 0.35126941513691123\n",
      "Training loss: 0.3302879740100807\n",
      "Training loss: 0.3172318193513447\n",
      "Training loss: 0.3012649041614426\n",
      "Training loss: 0.29171093157740796\n",
      "Training loss: 0.28120368981221594\n",
      "Training loss: 0.27310153312170937\n",
      "Training loss: 0.2632431341990479\n",
      "Training loss: 0.25982061635329523\n",
      "Training loss: 0.25059708373061124\n",
      "Training loss: 0.24553539502277558\n",
      "Training loss: 0.24125539998748283\n",
      "Training loss: 0.23521060668932858\n",
      "Training loss: 0.23163919098405186\n",
      "Training loss: 0.2269195280015977\n",
      "Training loss: 0.22057048483555125\n",
      "Training loss: 0.2212700649007742\n",
      "Training loss: 0.21950611309694457\n"
     ]
    }
   ],
   "source": [
    "# train a model\n",
    "model = Classifier()\n",
    "\n",
    "criterion = nn.NLLLoss()\n",
    "optimizer = optim.Adam(model.parameters(), lr = 0.003)\n",
    "epochs = 20\n",
    "\n",
    "for e in range(epochs):\n",
    "    running_loss = 0\n",
    "    for images, labels in trainloader:\n",
    "        #모델에서 훈련\n",
    "        result = model(images)\n",
    "        #오차 계산\n",
    "        loss = criterion(result, labels)\n",
    "        \n",
    "        #초기화\n",
    "        optimizer.zero_grad()\n",
    "        \n",
    "        #역전파\n",
    "        loss.backward()\n",
    "        \n",
    "        #스텝\n",
    "        optimizer.step()\n",
    "        \n",
    "        #오차값을 총 오차에 더함\n",
    "        running_loss += loss.item()\n",
    "        \n",
    "    else:\n",
    "        print(f\"Training loss: {running_loss/len(trainloader)}\")\n",
    "        \n",
    "        "
   ]
  },
  {
   "cell_type": "code",
   "execution_count": 7,
   "id": "ad7f00b8",
   "metadata": {},
   "outputs": [
    {
     "data": {
      "text/plain": [
       "\"\\ndataiter = iter(testloader)\\nimages, labels = dataiter.next()\\nimg = images[0]\\nimg = img.resize(1, 784)\\nps = torch.exp(model(img))\\nhelper.view_classify(img.resize_(1, 28, 28), ps, version = 'Fashion')\\n\""
      ]
     },
     "execution_count": 7,
     "metadata": {},
     "output_type": "execute_result"
    }
   ],
   "source": [
    "\n",
    "\"\"\"\n",
    "dataiter = iter(testloader)\n",
    "images, labels = dataiter.next()\n",
    "img = images[0]\n",
    "img = img.resize(1, 784)\n",
    "ps = torch.exp(model(img))\n",
    "helper.view_classify(img.resize_(1, 28, 28), ps, version = 'Fashion')\n",
    "\"\"\""
   ]
  },
  {
   "cell_type": "code",
   "execution_count": 9,
   "id": "d8296203",
   "metadata": {},
   "outputs": [
    {
     "name": "stdout",
     "output_type": "stream",
     "text": [
      "Epoch:1/20.. Training Loss : 0.210.. Test Loss: 0.187.. Test Accuracy: 0.929604\n",
      "Epoch:2/20.. Training Loss : 0.206.. Test Loss: 0.183.. Test Accuracy: 0.931753\n",
      "Epoch:3/20.. Training Loss : 0.207.. Test Loss: 0.177.. Test Accuracy: 0.934951\n",
      "Epoch:4/20.. Training Loss : 0.204.. Test Loss: 0.191.. Test Accuracy: 0.929238\n",
      "Epoch:5/20.. Training Loss : 0.196.. Test Loss: 0.187.. Test Accuracy: 0.931053\n",
      "Epoch:6/20.. Training Loss : 0.200.. Test Loss: 0.178.. Test Accuracy: 0.933902\n",
      "Epoch:7/20.. Training Loss : 0.193.. Test Loss: 0.200.. Test Accuracy: 0.927872\n",
      "Epoch:8/20.. Training Loss : 0.188.. Test Loss: 0.160.. Test Accuracy: 0.939116\n",
      "Epoch:9/20.. Training Loss : 0.184.. Test Loss: 0.173.. Test Accuracy: 0.936700\n",
      "Epoch:10/20.. Training Loss : 0.190.. Test Loss: 0.192.. Test Accuracy: 0.929604\n",
      "Epoch:11/20.. Training Loss : 0.185.. Test Loss: 0.169.. Test Accuracy: 0.934885\n",
      "Epoch:12/20.. Training Loss : 0.178.. Test Loss: 0.165.. Test Accuracy: 0.938833\n",
      "Epoch:13/20.. Training Loss : 0.179.. Test Loss: 0.168.. Test Accuracy: 0.936051\n",
      "Epoch:14/20.. Training Loss : 0.178.. Test Loss: 0.158.. Test Accuracy: 0.942364\n",
      "Epoch:15/20.. Training Loss : 0.176.. Test Loss: 0.205.. Test Accuracy: 0.928105\n",
      "Epoch:16/20.. Training Loss : 0.173.. Test Loss: 0.177.. Test Accuracy: 0.932569\n",
      "Epoch:17/20.. Training Loss : 0.167.. Test Loss: 0.154.. Test Accuracy: 0.941248\n",
      "Epoch:18/20.. Training Loss : 0.163.. Test Loss: 0.143.. Test Accuracy: 0.946745\n",
      "Epoch:19/20.. Training Loss : 0.169.. Test Loss: 0.181.. Test Accuracy: 0.933136\n",
      "Epoch:20/20.. Training Loss : 0.163.. Test Loss: 0.149.. Test Accuracy: 0.946845\n"
     ]
    }
   ],
   "source": [
    "# Accuracy\n",
    "\n",
    "train_losses, test_losses = [], []\n",
    "\n",
    "for e in range(epochs):\n",
    "    running_loss = 0\n",
    "    for images, labels in trainloader:\n",
    "        optimizer.zero_grad()\n",
    "        log_ps = model(images)\n",
    "        loss = criterion(log_ps, labels)\n",
    "        loss.backward()\n",
    "        optimizer.step()\n",
    "        running_loss += loss.item()\n",
    "    else:\n",
    "        test_loss = 0\n",
    "        accuracy = 0\n",
    "        \n",
    "        # Turn off gradients for validation, saves memory and computations\n",
    "        #자동 미분을 꺼서 pytorch가 쓸 떼 없는 짓을 안한다. \n",
    "        with torch.no_grad():\n",
    "            for images, labels in testloader:\n",
    "                \n",
    "                log_ps = model(images)\n",
    "                test_loss += criterion(log_ps, labels)\n",
    "                \n",
    "                #로그 확률에 지수 적용\n",
    "                ps = torch.exp(log_ps)\n",
    "                \n",
    "                #k번째로 큰 숫를 찾아낸다 / dim = 1 은 dimension을 의미한다.\n",
    "                top_p, top_class = ps.topk(1, dim=1)\n",
    "                \n",
    "                #labels를 top_class와 똑같은 형태로 만든 다음에, 얼마나 같은게 있는지 확인한다.\n",
    "                equals = top_class == labels.view(*top_class.shape)\n",
    "                \n",
    "                #equals를 float으로 바꾸고 평균 정확도를 구한다.\n",
    "                accuracy += torch.mean(equals.type(torch.FloatTensor))\n",
    "        train_losses.append(running_loss/len(trainloader))\n",
    "        test_losses.append(test_loss/len(testloader))\n",
    "        \n",
    "        print(\n",
    "            \"Epoch:{}/{}..\".format(e+1, epochs),\n",
    "            \"Training Loss : {:.3f}..\".format(running_loss / len(trainloader)),\n",
    "            \"Test Loss: {:.3f}..\".format(test_loss/len(testloader)),\n",
    "            \"Test Accuracy: {:3f}\".format(accuracy/len(testloader))\n",
    "             )\n",
    "        \n",
    "        \n",
    "                \n"
   ]
  },
  {
   "cell_type": "code",
   "execution_count": 10,
   "id": "8fe9c327",
   "metadata": {},
   "outputs": [
    {
     "data": {
      "text/plain": [
       "<matplotlib.legend.Legend at 0x1e70037e850>"
      ]
     },
     "execution_count": 10,
     "metadata": {},
     "output_type": "execute_result"
    },
    {
     "data": {
      "image/png": "[encoded data removed]",
      "text/plain": [
       "<Figure size 432x288 with 1 Axes>"
      ]
     },
     "metadata": {
      "needs_background": "light"
     },
     "output_type": "display_data"
    }
   ],
   "source": [
    "plt.plot(train_losses, label = \"training loss\")\n",
    "plt.plot(test_losses, label = \"Validation loss\")\n",
    "plt.legend(frameon = False)"
   ]
  }
 ],
 "metadata": {
  "kernelspec": {
   "display_name": "Python 3 (ipykernel)",
   "language": "python",
   "name": "python3"
  },
  "language_info": {
   "codemirror_mode": {
    "name": "ipython",
    "version": 3
   },
   "file_extension": ".py",
   "mimetype": "text/x-python",
   "name": "python",
   "nbconvert_exporter": "python",
   "pygments_lexer": "ipython3",
   "version": "3.9.5"
  }
 },
 "nbformat": 4,
 "nbformat_minor": 5
}
